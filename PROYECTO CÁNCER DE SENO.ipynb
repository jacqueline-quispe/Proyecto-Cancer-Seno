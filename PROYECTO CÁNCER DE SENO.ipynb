{
 "cells": [
  {
   "attachments": {},
   "cell_type": "markdown",
   "id": "74345079",
   "metadata": {},
   "source": [
    "INSTALACIÓN DE LIBRERIAS"
   ]
  },
  {
   "cell_type": "code",
   "execution_count": null,
   "id": "92a38064",
   "metadata": {},
   "outputs": [],
   "source": [
    "import pandas as pd\n",
    "\n",
    "from sklearn.neighbors import KNeighborsClassifier\n",
    "from sklearn.linear_model import SGDClassifier\n",
    "from sklearn.tree import DecisionTreeClassifier\n",
    "from sklearn.ensemble import RandomForestClassifier\n",
    "from sklearn.ensemble import GradientBoostingClassifier\n",
    "from sklearn.pipeline import Pipeline\n",
    "from sklearn.pipeline import Pipeline\n",
    "from sklearn.compose import ColumnTransformer\n",
    "from sklearn.impute import SimpleImputer\n",
    "from sklearn.preprocessing import OneHotEncoder\n",
    "from sklearn.preprocessing import StandardScaler\n",
    "from sklearn.compose import make_column_selector\n",
    "from sklearn.ensemble import RandomForestRegressor\n",
    "from sklearn.model_selection import RepeatedKFold\n",
    "from sklearn.model_selection import GridSearchCV\n",
    "from sklearn.model_selection import ParameterGrid\n",
    "from sklearn.metrics import classification_report\n",
    "from imblearn.under_sampling import NearMiss\n",
    "from imblearn.over_sampling import RandomOverSampler\n",
    "from imblearn.combine import SMOTETomek\n",
    "from imblearn.ensemble import BalancedBaggingClassifier\n",
    "from sklearn.svm import SVC\n",
    "import matplotlib.pyplot as plt\n",
    "import multiprocessing\n",
    "from sklearn.model_selection import train_test_split\n",
    "from sklearn.metrics import confusion_matrix, ConfusionMatrixDisplay\n",
    "\n"
   ]
  },
  {
   "attachments": {},
   "cell_type": "markdown",
   "id": "50199cc3",
   "metadata": {},
   "source": [
    "Un tumor puede ser canceroso o benigno. Un tumor canceroso es maligno, lo que significa que puede crecer y diseminarse a otras partes del cuerpo. Un tumor benigno significa que el tumor puede crecer, pero no se diseminará."
   ]
  },
  {
   "attachments": {},
   "cell_type": "markdown",
   "id": "1b52c9f1",
   "metadata": {},
   "source": [
    "CARGAMOS EL DATASET"
   ]
  },
  {
   "cell_type": "code",
   "execution_count": null,
   "id": "8d6b1a17",
   "metadata": {},
   "outputs": [],
   "source": [
    "df = pd.read_csv('./data.csv',sep=',',encoding='latin1')\n",
    "df\n"
   ]
  },
  {
   "attachments": {},
   "cell_type": "markdown",
   "id": "9598beb2",
   "metadata": {},
   "source": [
    "SE ELIMINA LA VARIABLE ID PORQUE NO APORTA AL MODELO"
   ]
  },
  {
   "cell_type": "code",
   "execution_count": null,
   "id": "58151ddb",
   "metadata": {},
   "outputs": [],
   "source": [
    "df.set_index('id', inplace=True)\n",
    "df = df.drop(['Unnamed: 32'], axis=1)\n",
    "df.head()"
   ]
  },
  {
   "attachments": {},
   "cell_type": "markdown",
   "id": "7c0406ec",
   "metadata": {},
   "source": [
    "REVISAMOS QUE NO HAYA VALORES NULOS"
   ]
  },
  {
   "cell_type": "code",
   "execution_count": null,
   "id": "1f00e751",
   "metadata": {},
   "outputs": [],
   "source": [
    "df.info()"
   ]
  },
  {
   "attachments": {},
   "cell_type": "markdown",
   "id": "1eb94ce8",
   "metadata": {},
   "source": [
    "Convertimos la varible que deseamos predecir en numeros.\n",
    "Para lo cual se asignara 1 para Maligno y 0 para Benigno"
   ]
  },
  {
   "cell_type": "code",
   "execution_count": null,
   "id": "f92d57ea",
   "metadata": {},
   "outputs": [],
   "source": [
    "df.diagnosis = df.diagnosis.replace('M', 1)\n",
    "df.diagnosis = df.diagnosis.replace('B', 0)\n",
    "df.diagnosis.value_counts()"
   ]
  },
  {
   "cell_type": "code",
   "execution_count": null,
   "id": "516a6716",
   "metadata": {},
   "outputs": [],
   "source": [
    "# Dimensiones del dataset\n",
    "# ==============================================================================\n",
    "df.shape"
   ]
  },
  {
   "cell_type": "code",
   "execution_count": null,
   "id": "e2dce8a2",
   "metadata": {},
   "outputs": [],
   "source": [
    "# Número de datos ausentes por variable\n",
    "# ==============================================================================\n",
    "df.isna().sum().sort_values()"
   ]
  },
  {
   "cell_type": "code",
   "execution_count": null,
   "id": "26328733",
   "metadata": {},
   "outputs": [],
   "source": [
    "count_classes = pd.value_counts(df['diagnosis'], sort = True)\n",
    "count_classes.plot(kind = 'bar', rot=0)\n",
    "LABELS=['Benigno','Maligno']\n",
    "plt.xticks(range(2), LABELS)\n",
    "plt.title(\"Frecuencia de observaciones\")\n",
    "plt.xlabel(\"Diagnostico\")\n",
    "plt.ylabel(\"Numero de observaciones\");"
   ]
  },
  {
   "cell_type": "code",
   "execution_count": null,
   "id": "53a77d0c",
   "metadata": {},
   "outputs": [],
   "source": [
    "import seaborn as sns\n",
    "import matplotlib.pyplot as plt\n",
    "\n",
    "\n",
    "# Calculamos la matriz de correlacion\n",
    "corr = df.corr()\n",
    "\n",
    "# plot\n",
    "plt.figure(figsize=(20, 20))\n",
    "sns.heatmap(corr,\n",
    "        xticklabels=corr.columns,\n",
    "        yticklabels=corr.columns,\n",
    "        cmap='YlGnBu', linewidths=.5,annot=True)"
   ]
  },
  {
   "attachments": {},
   "cell_type": "markdown",
   "id": "dd46f0cc",
   "metadata": {},
   "source": [
    "División train y test"
   ]
  },
  {
   "cell_type": "code",
   "execution_count": null,
   "id": "ecdaa62e",
   "metadata": {},
   "outputs": [],
   "source": [
    "# Reparto de datos en train y test\n",
    "# ==============================================================================\n",
    "from sklearn.model_selection import train_test_split\n",
    "\n",
    "X_train, X_test, y_train, y_test = train_test_split(\n",
    "                                        df.drop('diagnosis', axis = 'columns'),\n",
    "                                        df['diagnosis'],\n",
    "                                        train_size   = 0.2,\n",
    "                                        random_state = 1234,\n",
    "                                        shuffle      = True\n",
    "                                    )"
   ]
  },
  {
   "cell_type": "code",
   "execution_count": null,
   "id": "acb952d2",
   "metadata": {},
   "outputs": [],
   "source": [
    "print(\"BASE COMPLETA\")\n",
    "print(df.diagnosis.value_counts())\n",
    "print(\"-----------------------\")\n",
    "print(\"Partición de test\")\n",
    "print(y_test.value_counts())\n",
    "print(\"-----------------------\")\n",
    "print(\"Partición de train\")\n",
    "print(y_train.value_counts())"
   ]
  },
  {
   "attachments": {},
   "cell_type": "markdown",
   "id": "0c9b3353",
   "metadata": {},
   "source": [
    "PREDICCION"
   ]
  },
  {
   "cell_type": "code",
   "execution_count": null,
   "id": "dc112d52",
   "metadata": {},
   "outputs": [],
   "source": [
    "def plot_confusion_matrix(X, y, model):\n",
    "    y_pred = model.predict(X)\n",
    "    cm = confusion_matrix(y, y_pred, labels=model.classes_)\n",
    "    disp = ConfusionMatrixDisplay(confusion_matrix=cm,\n",
    "                                  display_labels=model.classes_)\n",
    "    disp.plot()\n",
    "\n",
    "    plt.show()"
   ]
  },
  {
   "cell_type": "code",
   "execution_count": null,
   "id": "b2e7ba1f",
   "metadata": {},
   "outputs": [],
   "source": [
    "# Sin bucle plantilla basica\n",
    "def evaluate_model(X_train, y_train, X_test, y_test, model):\n",
    "    print(f\"Error training: {(1 - model.score(X_train, y_train)) * 100} %\")\n",
    "    print(f\"Error test: {(1 - model.score(X_test, y_test)) * 100} %\")\n",
    "    print(\"\")\n",
    "    print(\"\")\n",
    "    print(\"\")\n",
    "\n",
    "\n",
    "    print(\"Training confusion matrix\")\n",
    "    plot_confusion_matrix(X_train, y_train, model)\n",
    "    print(\"Test confusion matrix\")\n",
    "    plot_confusion_matrix(X_test, y_test, model)"
   ]
  },
  {
   "attachments": {},
   "cell_type": "markdown",
   "id": "9d09b714",
   "metadata": {},
   "source": [
    "1.- MODELO KNN"
   ]
  },
  {
   "cell_type": "code",
   "execution_count": null,
   "id": "c793e37d",
   "metadata": {},
   "outputs": [],
   "source": [
    "\n",
    "model = KNeighborsClassifier(n_neighbors=5)\n",
    "model.fit(X_train, y_train)\n",
    "\n",
    "evaluate_model(X_train, y_train, X_test, y_test, model)"
   ]
  },
  {
   "attachments": {},
   "cell_type": "markdown",
   "id": "daaec8c1",
   "metadata": {},
   "source": [
    "2.- MODELO BOOSTING"
   ]
  },
  {
   "attachments": {},
   "cell_type": "markdown",
   "id": "eeb84d70",
   "metadata": {},
   "source": [
    "Es una técnica de aprendizaje automático que combina varios clasificadores o modelos débiles para crear un modelo sólido. La idea detrás del impulso es entrenar una secuencia de modelos, cada uno de los cuales se enfoca en los ejemplos que previamente fueron mal clasificados por el modelo anterior."
   ]
  },
  {
   "cell_type": "code",
   "execution_count": null,
   "id": "511b26fa",
   "metadata": {},
   "outputs": [],
   "source": [
    "\n",
    "model = GradientBoostingClassifier(n_estimators=100, learning_rate=0.2,\n",
    "    max_depth=1, random_state=0)\n",
    "\n",
    "model = model.fit(X_train, y_train)\n",
    "\n",
    "evaluate_model(X_train, y_train, X_test, y_test, model)"
   ]
  },
  {
   "attachments": {},
   "cell_type": "markdown",
   "id": "c22f0535",
   "metadata": {},
   "source": [
    "3.- MODELO SVC"
   ]
  },
  {
   "cell_type": "code",
   "execution_count": null,
   "id": "29c1dbe8",
   "metadata": {},
   "outputs": [],
   "source": [
    "\n",
    "model = SVC()\n",
    "\n",
    "model = model.fit(X_train, y_train)\n",
    "evaluate_model(X_train, y_train, X_test, y_test, model)"
   ]
  },
  {
   "attachments": {},
   "cell_type": "markdown",
   "id": "9e24e52d",
   "metadata": {},
   "source": [
    "CONCLUSION:\n",
    "\n",
    "En el modelo KNN tenemos un error de train de 7.07% y de test de 7.68%, en cuanto a la matriz de confusión tenemos que este modelo predijo correctamente 142 casos de cancer benignos y 279 malignos, los falsos negativos que nos da el modelo es de 27 casos.\n",
    "\n",
    "El modelo Boosting tenemos un error de train de 0.0% y de test de 5.26%, en cuanto a la matriz de confusión tenemos que este modelo predijo correctamente 283 casos de cancer benignos y 149 malignos, los falsos negativos que nos da el modelo es de 20 casos.\n",
    "\n",
    "El modelo Boosting tenemos un error de train de 9.73% y de test de 10.96%, en cuanto a la matriz de confusión tenemos que este modelo predijo correctamente 284 casos de cancer benignos y 122 malignos, los falsos negativos que nos da el modelo es de 47 casos.\n",
    "\n",
    "El modelo Boosting es el que mejor predice la base de datos del cáncer. Debido a que otorga solo 20 casos falsos negativos."
   ]
  }
 ],
 "metadata": {
  "kernelspec": {
   "display_name": "Python 3 (ipykernel)",
   "language": "python",
   "name": "python3"
  },
  "language_info": {
   "codemirror_mode": {
    "name": "ipython",
    "version": 3
   },
   "file_extension": ".py",
   "mimetype": "text/x-python",
   "name": "python",
   "nbconvert_exporter": "python",
   "pygments_lexer": "ipython3",
   "version": "3.8.6"
  },
  "papermill": {
   "default_parameters": {},
   "duration": 25.965251,
   "end_time": "2022-08-11T08:00:35.978274",
   "environment_variables": {},
   "exception": null,
   "input_path": "__notebook__.ipynb",
   "output_path": "__notebook__.ipynb",
   "parameters": {},
   "start_time": "2022-08-11T08:00:10.013023",
   "version": "2.3.4"
  }
 },
 "nbformat": 4,
 "nbformat_minor": 5
}
